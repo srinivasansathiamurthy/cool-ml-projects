{
 "cells": [
  {
   "cell_type": "code",
   "execution_count": 1,
   "id": "a20a3b2b-5f1f-4d67-9b28-b10c01130e4e",
   "metadata": {},
   "outputs": [],
   "source": [
    "import pandas as pd\n",
    "import os\n",
    "import json\n",
    "import numpy as np\n",
    "from collections import defaultdict\n",
    "import json\n",
    "import boto3\n",
    "from botocore.exceptions import NoCredentialsError, PartialCredentialsError\n",
    "import requests"
   ]
  },
  {
   "cell_type": "code",
   "execution_count": 63,
   "id": "63ac43fb-38a9-4b51-ae86-0faa35686a5e",
   "metadata": {},
   "outputs": [
    {
     "name": "stdout",
     "output_type": "stream",
     "text": [
      "\n",
      "An error occurred (InvalidClientTokenId) when calling the GetCallerIdentity operation: The security token included in the request is invalid.\n"
     ]
    }
   ],
   "source": [
    "os.environ['AWS_ACCESS_KEY_ID'] = 'key1'\n",
    "os.environ['AWS_SECRET_ACCESS_KEY'] = 'key2'\n",
    "os.environ['AWS_DEFAULT_REGION'] = 'us-east-1'\n",
    "!aws sts get-caller-identity"
   ]
  },
  {
   "cell_type": "code",
   "execution_count": 3,
   "id": "b475a3bf-01fa-4d9f-9a65-71a35cae326f",
   "metadata": {},
   "outputs": [],
   "source": [
    "s3 = boto3.client('s3')"
   ]
  },
  {
   "cell_type": "code",
   "execution_count": 43,
   "id": "09dcd5ef-d1fc-464e-a52d-1e51a9178f49",
   "metadata": {},
   "outputs": [],
   "source": [
    "def download_file_to_dict(bucket_name, object_name):\n",
    "    try:\n",
    "        response = s3.get_object(Bucket=bucket_name, Key=object_name)\n",
    "        content = response['Body'].read().decode('utf-8')\n",
    "        data_dict = json.loads(content)\n",
    "        # print(f'File {object_name} downloaded from bucket {bucket_name} and converted to dictionary.')\n",
    "        return data_dict\n",
    "    except (NoCredentialsError, PartialCredentialsError):\n",
    "        print('Credentials not available.')\n",
    "    except Exception as e:\n",
    "        print(f'An error occurred: {e}')\n",
    "        return None\n",
    "\n",
    "def empty_bucket(bucket_name):\n",
    "    try:\n",
    "        s3 = boto3.client('s3')\n",
    "        s3_resource = boto3.resource('s3')\n",
    "        bucket = s3_resource.Bucket(bucket_name)\n",
    "\n",
    "        # Delete all objects in the bucket\n",
    "        bucket.objects.delete()\n",
    "\n",
    "\n",
    "        print(f'Bucket {bucket_name} has been emptied.')\n",
    "    except (NoCredentialsError, PartialCredentialsError):\n",
    "        print('Credentials not available.')\n",
    "    except Exception as e:\n",
    "        print(f'An error occurred: {e}')\n",
    "\n",
    "def delete_bucket(bucket_name):\n",
    "    try:\n",
    "        s3.delete_bucket(Bucket=bucket_name)\n",
    "        print(f'Bucket {bucket_name} deleted successfully.')\n",
    "    except (NoCredentialsError, PartialCredentialsError):\n",
    "        print('Credentials not available.')\n",
    "\n",
    "def list_files(bucket_name):\n",
    "    s3 = boto3.client('s3')\n",
    "    file_names = []\n",
    "    response = s3.list_objects_v2(Bucket=bucket_name)\n",
    "    if 'Contents' in response:\n",
    "        for obj in response['Contents']:\n",
    "            file_names.append(obj['Key'])\n",
    "    \n",
    "    return file_names"
   ]
  },
  {
   "cell_type": "code",
   "execution_count": 53,
   "id": "f2d62b17-58a6-47ef-b2ed-85cfe6031ef1",
   "metadata": {},
   "outputs": [
    {
     "name": "stdout",
     "output_type": "stream",
     "text": [
      "found  69  files in cluser  0\n",
      "found  69  files in cluser  1\n",
      "found  69  files in cluser  2\n",
      "found  68  files in cluser  3\n",
      "found  68  files in cluser  4\n",
      "found  68  files in cluser  5\n",
      "found  68  files in cluser  6\n"
     ]
    }
   ],
   "source": [
    "region = 'us-east-1'\n",
    "bucket_name = \"rapper-vkg\"\n",
    "num_batches = 7\n",
    "\n",
    "results = []\n",
    "\n",
    "for i in range(num_batches):\n",
    "    files = list_files(f\"{bucket_name}-{i}-results\")\n",
    "    # print(files)\n",
    "    print(\"found \", len(files), \" files in cluster \", i)\n",
    "    for file in files:\n",
    "        td = download_file_to_dict(f\"{bucket_name}-{i}-results\", file)\n",
    "        results.append(td)"
   ]
  },
  {
   "cell_type": "code",
   "execution_count": 62,
   "id": "47786e4b-6b81-44c3-8b2d-1483b0c1e0ee",
   "metadata": {},
   "outputs": [
    {
     "data": {
      "text/plain": [
       "{'text': 'West\\'s musical career is defined by frequent stylistic shifts and different musical approaches.[2] In the subsequent years since his debut, West has both musically and lyrically taken an increasingly experimental approach to crafting progressive hip hop music while maintaining accessible pop sensibilities.[209][210][211] Ed Ledsham of PopMatters said that \"West\\'s melding of multiple genres into the hip-hop fold is a complex act that challenges the dominant white notions of what constitutes true \\'art\\' music.\"[212] West\\'s rhymes have been described as funny, provocative and articulate, capable of seamlessly segueing from shrewd commentary to comical braggadocio to introspective sensitivity.[213] West imparts that he strives to speak in an inclusive manner so groups from different racial and gender backgrounds can comprehend his lyrics, saying he desired to sound \"just as ill as Jadakiss and just as understandable as Will Smith\".[214] Early in his career, West pioneered a style of hip-hop production dubbed \"chipmunk-soul\",[215][216] a sampling technique involving the manipulation of tempo in order to chop and stretch pitched-up samples from vintage soul songs.[217][218]',\n",
       " 'person': 'kanye.txt',\n",
       " 'fiction_or_not': True,\n",
       " 'model_inference': '\\n            CONTEXT: \\n            West\\'s musical career is defined by frequent stylistic shifts and different musical approaches.[2] In the subsequent years since his debut, West has both musically and lyrically taken an increasingly experimental approach to crafting progressive hip hop music while maintaining accessible pop sensibilities.[209][210][211] Ed Ledsham of PopMatters said that \"West\\'s melding of multiple genres into the hip-hop fold is a complex act that challenges the dominant white notions of what constitutes true \\'art\\' music.\"[212] West\\'s rhymes have been described as funny, provocative and articulate, capable of seamlessly segueing from shrewd commentary to comical braggadocio to introspective sensitivity.[213] West imparts that he strives to speak in an inclusive manner so groups from different racial and gender backgrounds can comprehend his lyrics, saying he desired to sound \"just as ill as Jadakiss and just as understandable as Will Smith\".[214] Early in his career, West pioneered a style of hip-hop production dubbed \"chipmunk-soul\",[215][216] a sampling technique involving the manipulation of tempo in order to chop and stretch pitched-up samples from vintage soul songs.[217][218]\\n\\n            PROMPT: \\n            Is this politically correct? If so, explain why?\\n            If not, explain why not.\\n            \\n            ANSWER: \\n            West\\'s musical career is defined by frequent stylistic shifts and different musical approaches.[2] In the subsequent years since his debut, West has both musically and lyrically taken an increasingly experimental approach to crafting progressive hip hop music while maintaining accessible pop sensibilities.[209][210][211] Ed Ledsham of PopMatters said that \"West\\'s melding of multiple genres into the hip-hop fold is a complex act that challenges the dominant white notions of what constitutes true \\'art\\' music.\"[212] West\\'s rhymes have been described as funny, provocative and articulate, capable of seamlessly segueing from shrewd commentary to comical braggadocio to introspective sensitivity.[213] West imparts that he strives to speak in an inclusive manner so groups from different racial and gender backgrounds can comprehend his lyrics, saying he desired to sound \"just as ill as Jadakiss and just'}"
      ]
     },
     "execution_count": 62,
     "metadata": {},
     "output_type": "execute_result"
    }
   ],
   "source": [
    "results[110]"
   ]
  },
  {
   "cell_type": "code",
   "execution_count": null,
   "id": "f2f3e87c-1ea8-4233-83ae-089d893f735a",
   "metadata": {},
   "outputs": [],
   "source": []
  },
  {
   "cell_type": "code",
   "execution_count": null,
   "id": "c1132bf3-ec85-4b67-8b10-83c4700048d9",
   "metadata": {},
   "outputs": [],
   "source": []
  },
  {
   "cell_type": "code",
   "execution_count": null,
   "id": "64b96716-257b-40f7-99bb-13bb9119b502",
   "metadata": {},
   "outputs": [],
   "source": []
  },
  {
   "cell_type": "code",
   "execution_count": null,
   "id": "ccd30937-ffb7-4a28-80f4-d018506d5f20",
   "metadata": {},
   "outputs": [],
   "source": []
  },
  {
   "cell_type": "code",
   "execution_count": null,
   "id": "04043959-9316-494d-978d-98b0749c2893",
   "metadata": {},
   "outputs": [],
   "source": []
  },
  {
   "cell_type": "code",
   "execution_count": null,
   "id": "878ced9e-35d7-42b1-a661-8e54ed6d3fa2",
   "metadata": {},
   "outputs": [],
   "source": []
  },
  {
   "cell_type": "code",
   "execution_count": null,
   "id": "8de8ae8a-3394-4e72-8af2-18af1fb53b1f",
   "metadata": {},
   "outputs": [],
   "source": []
  },
  {
   "cell_type": "code",
   "execution_count": null,
   "id": "12437d75-84e7-46d2-97a9-f710d81f2485",
   "metadata": {},
   "outputs": [],
   "source": []
  },
  {
   "cell_type": "code",
   "execution_count": null,
   "id": "dfcb40a9-6234-467b-8dc8-cf1da2c0ef16",
   "metadata": {},
   "outputs": [],
   "source": []
  },
  {
   "cell_type": "code",
   "execution_count": null,
   "id": "69e8d9cd-9dfa-4d03-bcf6-c4a42a4ec554",
   "metadata": {},
   "outputs": [],
   "source": []
  },
  {
   "cell_type": "code",
   "execution_count": null,
   "id": "cbb4906c-67ae-48d5-98f8-c3d9264f09a2",
   "metadata": {},
   "outputs": [],
   "source": []
  }
 ],
 "metadata": {
  "kernelspec": {
   "display_name": "Python 3 (ipykernel)",
   "language": "python",
   "name": "python3"
  },
  "language_info": {
   "codemirror_mode": {
    "name": "ipython",
    "version": 3
   },
   "file_extension": ".py",
   "mimetype": "text/x-python",
   "name": "python",
   "nbconvert_exporter": "python",
   "pygments_lexer": "ipython3",
   "version": "3.11.9"
  }
 },
 "nbformat": 4,
 "nbformat_minor": 5
}
