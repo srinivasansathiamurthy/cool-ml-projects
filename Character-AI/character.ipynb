{
 "cells": [
  {
   "cell_type": "code",
   "execution_count": 108,
   "id": "8b762a5a-5acc-4728-9741-2de6184d4d09",
   "metadata": {},
   "outputs": [],
   "source": [
    "import pandas as pd\n",
    "import requests\n",
    "import os\n",
    "import subprocess\n",
    "import json\n",
    "import time\n",
    "import re\n",
    "import whisper\n",
    "import sounddevice as sd\n",
    "import numpy as np\n",
    "import wave\n",
    "import threading\n",
    "from pydub import AudioSegment\n",
    "import gc\n",
    "import signal"
   ]
  },
  {
   "cell_type": "code",
   "execution_count": 96,
   "id": "7070282a-2d69-41d2-9b16-31fa131652a0",
   "metadata": {},
   "outputs": [
    {
     "name": "stderr",
     "output_type": "stream",
     "text": [
      "100%|█████████████████████████████████████| 1.42G/1.42G [02:50<00:00, 8.99MiB/s]\n"
     ]
    }
   ],
   "source": [
    "model = whisper.load_model(\"medium.en\")"
   ]
  },
  {
   "cell_type": "code",
   "execution_count": 2,
   "id": "5377f146-6e4a-4785-8add-c2a243f20031",
   "metadata": {
    "collapsed": true,
    "jupyter": {
     "outputs_hidden": true
    }
   },
   "outputs": [
    {
     "name": "stdout",
     "output_type": "stream",
     "text": [
      "Cluster 1 theme: Title: Biggie, Jay-Z, and Bad Boy Records \n",
      "Summary: The community centers around the influential figures of Biggie (The Notorious B.I.G.) and Jay-Z, with significant ties to Bad Boy Records and its recording studio, Daddy's House. The relationships between these entities highlight a network of collaboration, mutual respect, and shared history in the music industry. \n",
      "\n",
      "Cluster 2 theme: Title: Jay-Z and the Song 'FALLIN'' \n",
      "Summary: The community revolves around the song 'FALLIN'' by Jay-Z, featuring Bilal. The song references several classic crime films such as 'Scarface', 'Casino', 'Godfather', and 'Goodfellas' to illustrate the inevitable downfall of a life of crime. The relationships between these entities highlight the cultural and thematic significance of the song. \n",
      "\n",
      "Cluster 3 theme: Title: Jay-Z and His Musical Network \n",
      "Summary: This community revolves around Jay-Z, also known as Hov, and includes key figures and entities such as Biggie, Kanye West, and various notable songs and albums. The relationships among these entities highlight significant collaborations, influences, and shared experiences within the music industry. \n",
      "\n",
      "Cluster 4 theme: Title: President Obama, Jay Z, and the Song 'HISTORY' \n",
      "Summary: The community revolves around the song 'HISTORY,' which was written after President Obama won the 2008 presidential election. The song features Cee-Lo and was performed at one of the inaugural balls. Key entities in this community include President Obama, Jay Z, and George W. Bush, with significant relationships highlighting the song's performance and its thematic elements. \n",
      "\n",
      "Cluster 5 theme: Title: Kanye West and Harold Melvin and the Bluenotes \n",
      "Summary: The community revolves around Kanye West, a prominent rapper and producer, and his musical connections, particularly with Harold Melvin and the Bluenotes. Kanye's influence in the music industry is highlighted by his sampling of Harold Melvin and the Bluenotes' song 'Miss You' and his collaboration with Jay-Z on the track 'Lucifer'. \n",
      "\n",
      "Cluster 6 theme: Title: BIG and Nas in the Music Industry \n",
      "Summary: The community revolves around two prominent figures in the music industry, BIG (The Notorious B.I.G.) and Nas. BIG is a highly influential rapper who achieved significant success before his untimely death, and Nas is another well-known rapper who was gaining popularity during the same period. The relationships between these entities highlight their mutual prominence and influence in the music industry. \n",
      "\n",
      "Cluster 7 theme: Title: Jay Z and the Obama Inauguration \n",
      "Summary: The community centers around Jay Z, a prominent rapper who performed at President Obama's inauguration. Key entities include songs like 'Streets Is Watching' and 'History,' the latter of which was performed at the inaugural balls. The relationships between these entities highlight Jay Z's influence and the cultural significance of his work, particularly in the context of President Obama's historic election. \n",
      "\n",
      "Cluster 8 theme: Title: UGK and Big Pimpin' \n",
      "Summary: The community revolves around the hip-hop duo UGK, consisting of Pimp C and Bun B, and their notable collaboration on the song 'Big Pimpin'' with Jay-Z. The community includes the original and extended versions of the song, highlighting the significant contributions of UGK to the hip-hop genre. The relationships between these entities underscore the collaborative nature of the music industry and the enduring impact of 'Big Pimpin''. \n",
      "\n",
      "Cluster 9 theme: Title: Victory, Defeat, and History in Jay Z's Song 'HISTORY' \n",
      "Summary: The community revolves around the metaphorical entities in Jay Z's song 'HISTORY,' including Victory, Defeat, History (Child), and Death. These entities are interconnected through various relationships that represent the artist's experiences with success, failure, legacy, and danger. Victory is a central figure, linked to other entities such as Defeat, Success, and History (Child), while Defeat is connected to Death, illustrating a progression from failure to danger. \n",
      "\n",
      "Cluster 10 theme: Title: New York and Hip-Hop Community \n",
      "Summary: The community revolves around New York, which is deeply intertwined with the hip-hop genre. Key entities include New York, hip-hop, and significant figures and events such as Jay-Z, the East Coast-West Coast beef, and Southern rappers. The relationships among these entities highlight New York's central role in the development and influence of hip-hop culture. \n",
      "\n",
      "Cluster 11 theme: Title: Jay-Z's The Blueprint and Never Change \n",
      "Summary: The community revolves around Jay-Z's album 'The Blueprint' and its song 'Never Change'. The album, released by Jay-Z (also known as Hov), includes the song 'Never Change', which captures themes of resilience and consistency. The relationships between these entities highlight the significance of the album and its impact on Jay-Z's career. \n",
      "\n",
      "Cluster 12 theme: Title: Jay-Z and Big Pimpin' Collaborations \n",
      "Summary: The community centers around Jay-Z, a renowned rapper, and his notable collaborations, particularly the song 'Big Pimpin''. Key entities include fellow artists Bun B and Pimp C, the hip-hop duo UGK, and other significant figures and events mentioned in Jay-Z's music. The relationships between these entities highlight the interconnected nature of the hip-hop industry and the broader cultural and political references in Jay-Z's work. \n",
      "\n",
      "Cluster 13 theme: Title: Influential West Coast Hip-Hop: NWA, Snoop, Cube, and Dre \n",
      "Summary: The community revolves around the influential West Coast hip-hop group NWA and its key members, including Snoop, Cube, and Dre. These entities are interconnected through their contributions to the hip-hop genre and their influence on each other. The relationships among these artists highlight their collaborative efforts and the significant impact they have had on the music industry. \n",
      "\n",
      "Cluster 14 theme: Title: Pharrell and Blue Magic Collaboration \n",
      "Summary: The community centers around Pharrell, a music artist who collaborated with Jay-Z on the song 'Blue Magic.' This collaboration also involves En Vogue, whose song 'Hold On' is referenced in the hook of 'Blue Magic.' The relationships between these entities highlight the interconnected nature of the music industry and the influence of past works on new creations. \n",
      "\n",
      "Cluster 15 theme: Title: Scarface and Cultural Impact \n",
      "Summary: The community revolves around Scarface, encompassing both the iconic crime film and the influential rapper. Key entities include characters from the film, such as Gina Montana, Manny, and Tony, as well as real-life individuals and locations like Bassline Studios and Scarface's personal connections. The relationships between these entities highlight Scarface's significant cultural impact, both in music and broader cultural references. \n",
      "\n",
      "Cluster 16 theme: Title: Iran-Contra Scandal and Its Key Figures \n",
      "Summary: The community revolves around the Iran-Contra scandal, which involved the United States financing the Contras in Central America. Key entities in this community include Ronald Reagan, who was the 40th President of the United States and involved in the scandal, and Central America, which was significantly impacted by the events. The scandal is also mentioned by Jay-Z in the context of its impact on the drug trade. \n",
      "\n",
      "Cluster 17 theme: Title: Brooklyn and Mid-Nineties Migration \n",
      "Summary: The community revolves around Brooklyn, a borough in New York City, and its significant migration patterns in the mid-nineties. Key entities include Maryland, Virginia, and Washington, D.C., which were notable destinations for Brooklyn kids during this period. The author also identifies as an MC from Brooklyn and spent considerable time in these locations during the rise of West Coast hip-hop. \n",
      "\n",
      "Cluster 18 theme: Title: New York and Hip-Hop Culture \n",
      "Summary: The community revolves around New York, particularly Brooklyn, and its significant influence on hip-hop culture. Key entities include New York, Brooklyn, and the genre of hip-hop itself, with notable relationships involving the East Coast-West Coast beef, Southern rappers, and various locations such as Maryland, Virginia, and Washington, D.C. The community is characterized by its historical and cultural significance, particularly in the context of the 1990s hip-hop scene. \n",
      "\n",
      "Cluster 19 theme: Title: William and the American Gangster Album \n",
      "Summary: The community centers around William, a matured persona in the music industry, and his album 'American Gangster.' This album, inspired by the movie about Frank Lucas, features various collaborations and addresses significant themes such as bootlegging and legal challenges. Key relationships include prominent figures like The Notorious B.I.G. and Nas, as well as entities like Roc-A-Fella Records. \n",
      "\n",
      "Cluster 20 theme: Title: Jay-Z and His Circle \n",
      "Summary: The community revolves around Jay-Z, also known as Hov, a prominent rapper and music artist. Key entities in this community include his friends Biggie, Ty-Ty, and D-Rock, as well as several Manhattan clubs like Carbon, Exit, and Mirage. The relationships between these entities are primarily social and professional, with significant interactions occurring in the context of music and nightlife. \n",
      "\n",
      "Cluster 21 theme: Title: Jay-Z's The Black Album and Lucifer \n",
      "Summary: The community revolves around Jay-Z's album 'The Black Album' and its notable song 'Lucifer'. The album features multiple interconnected entities, including references to religious texts and other artists. Key relationships include Jay-Z's initial plan to name the album '8th Wonder', the song 'Lucifer' which samples Max Romeo's 'I Chase the Devil', and the song 'December 4th'. \n",
      "\n",
      "Cluster 22 theme: Title: Scarface Characters and Their Interactions \n",
      "Summary: The community revolves around key characters from the movie Scarface, including Gina Montana, Manny, and Tony. These characters are interconnected through various relationships that highlight significant events and dynamics within the narrative. Gina Montana's involvement with Manny and her relationship with Tony are central to the community's structure. \n",
      "\n",
      "Cluster 23 theme: Title: Scarface and Bassline Studios Community \n",
      "Summary: The community revolves around the cultural and musical impact of Scarface, both the film and the rapper, with significant connections to Bassline Studios and Roc-A-Fella Records. Key entities include characters from the movie Scarface, such as Gina Montana, Manny, and Tony, as well as real-life figures like Jay-Z (Jig) and the recording studio where pivotal music sessions took place. \n",
      "\n",
      "\n"
     ]
    }
   ],
   "source": [
    "# Construct the context from cached community reporting files\n",
    "context = \"\"\n",
    "for idx, e in enumerate(os.listdir(os.path.join(\"ragtest\", \"cache\", \"community_reporting\"))):\n",
    "    with open(os.path.join(\"ragtest\", \"cache\", \"community_reporting\", e), 'r') as file:\n",
    "        file_content = file.read()\n",
    "        json_data = json.loads(file_content)\n",
    "    title = eval(json_data[\"result\"])[\"title\"]\n",
    "    summary = eval(json_data[\"result\"])[\"summary\"]\n",
    "    context += f\"Cluster {idx+1} theme: \"\n",
    "    context += f\"Title: {title} \\n\"\n",
    "    context += f\"Summary: {summary} \\n\\n\"\n",
    "print(context)"
   ]
  },
  {
   "cell_type": "code",
   "execution_count": 3,
   "id": "349bf65b-f8a3-4a8a-b683-6c5616a5e7fe",
   "metadata": {},
   "outputs": [],
   "source": [
    "# Dialogue feed examples\n",
    "dialogue_feed_1 = \"I am a college graduate who likes software and would like to build profitable cool stuff. What is your advice?\"\n",
    "dialogue_feed_2 = \"What is the meaning of life?\"\n",
    "dialogue_feed_3 = \"How do you feel about shrimp?\""
   ]
  },
  {
   "cell_type": "code",
   "execution_count": 39,
   "id": "e833978e-33f4-4b02-84c9-4c514131f28a",
   "metadata": {
    "collapsed": true,
    "jupyter": {
     "outputs_hidden": true
    }
   },
   "outputs": [
    {
     "ename": "NameError",
     "evalue": "name 'context' is not defined",
     "output_type": "error",
     "traceback": [
      "\u001b[0;31m---------------------------------------------------------------------------\u001b[0m",
      "\u001b[0;31mNameError\u001b[0m                                 Traceback (most recent call last)",
      "Cell \u001b[0;32mIn[39], line 8\u001b[0m\n\u001b[1;32m      4\u001b[0m \u001b[38;5;28;01mwhile\u001b[39;00m(g_counter\u001b[38;5;241m<\u001b[39m\u001b[38;5;241m3\u001b[39m):\n\u001b[1;32m      5\u001b[0m     method \u001b[38;5;241m=\u001b[39m \u001b[38;5;124m\"\u001b[39m\u001b[38;5;124mlocal\u001b[39m\u001b[38;5;124m\"\u001b[39m  \u001b[38;5;66;03m# or \"global\"\u001b[39;00m\n\u001b[1;32m      6\u001b[0m     query \u001b[38;5;241m=\u001b[39m \u001b[38;5;124mf\u001b[39m\u001b[38;5;124m\"\"\"\u001b[39m\n\u001b[1;32m      7\u001b[0m \u001b[38;5;124m    SHORT TERM MEMORY CONTEXT:\u001b[39m\n\u001b[0;32m----> 8\u001b[0m \u001b[38;5;124m    \u001b[39m\u001b[38;5;132;01m{\u001b[39;00m\u001b[43mcontext\u001b[49m\u001b[38;5;132;01m}\u001b[39;00m\n\u001b[1;32m      9\u001b[0m \n\u001b[1;32m     10\u001b[0m \u001b[38;5;124m    \u001b[39m\n\u001b[1;32m     11\u001b[0m \u001b[38;5;124m    \u001b[39m\n\u001b[1;32m     12\u001b[0m \u001b[38;5;124m    PROMPT:\u001b[39m\n\u001b[1;32m     13\u001b[0m \u001b[38;5;124m    You are Jay Z, the influential rapper-mogul engaged in a conversation. The short term memory context provided has a high level overview of your experiences,\u001b[39m\n\u001b[1;32m     14\u001b[0m \u001b[38;5;124m    and the short term dialogue context provided has examples of how you speak in conversation.\u001b[39m\n\u001b[1;32m     15\u001b[0m \u001b[38;5;124m    Using a mixture of the context provided above and your long term memory, which consists of far more granular facts and experiences,\u001b[39m\n\u001b[1;32m     16\u001b[0m \u001b[38;5;124m    please answer the following question as Jay Z would in person:\u001b[39m\n\u001b[1;32m     17\u001b[0m \u001b[38;5;124m    \u001b[39m\u001b[38;5;132;01m{\u001b[39;00mdialogue_feed_3\u001b[38;5;132;01m}\u001b[39;00m\n\u001b[1;32m     18\u001b[0m \u001b[38;5;124m    \u001b[39m\u001b[38;5;124m\"\"\"\u001b[39m\n\u001b[1;32m     20\u001b[0m     \u001b[38;5;66;03m# Run the bash script with the dynamic method and query\u001b[39;00m\n\u001b[1;32m     21\u001b[0m     subprocess\u001b[38;5;241m.\u001b[39mrun([\u001b[38;5;124m\"\u001b[39m\u001b[38;5;124m./run_query.sh\u001b[39m\u001b[38;5;124m\"\u001b[39m, method, query])\n",
      "\u001b[0;31mNameError\u001b[0m: name 'context' is not defined"
     ]
    }
   ],
   "source": [
    "s = time.time()\n",
    "g_counter = 0\n",
    "\n",
    "while(g_counter<3):\n",
    "    method = \"local\"  # or \"global\"\n",
    "    query = f\"\"\"\n",
    "    SHORT TERM MEMORY CONTEXT:\n",
    "    {context}\n",
    "\n",
    "    \n",
    "    \n",
    "    PROMPT:\n",
    "    You are Jay Z, the influential rapper-mogul engaged in a conversation. The short term memory context provided has a high level overview of your experiences,\n",
    "    and the short term dialogue context provided has examples of how you speak in conversation.\n",
    "    Using a mixture of the context provided above and your long term memory, which consists of far more granular facts and experiences,\n",
    "    please answer the following question as Jay Z would in person:\n",
    "    {dialogue_feed_3}\n",
    "    \"\"\"\n",
    "    \n",
    "    # Run the bash script with the dynamic method and query\n",
    "    subprocess.run([\"./run_query.sh\", method, query])\n",
    "    \n",
    "    # Wait until the file is created or updated\n",
    "    output_file = 'output.txt'\n",
    "    break_bool = False\n",
    "    while not os.path.exists(output_file) or os.path.getmtime(output_file) < time.time() - 1:\n",
    "        time.sleep(1)\n",
    "        e = time.time()\n",
    "        if (e-s) > 30:\n",
    "            break_bool = True\n",
    "            break\n",
    "    if break_bool: \n",
    "        print(f\"Breaking for iteration {g_counter+1}\")\n",
    "        g_counter+=1\n",
    "        s = time.time()\n",
    "        break\n",
    "    \n",
    "    # Read and display the content of the output file\n",
    "    with open(output_file, 'r') as file:\n",
    "        output = file.read()\n",
    "    \n",
    "    # Extract the relevant part of the output and clean it\n",
    "    match = re.search(r'Local Search Response:(.*)', output, re.DOTALL)\n",
    "    \n",
    "    if match:\n",
    "        success_text = match.group(1).strip()\n",
    "        cleaned_text = re.sub(r'\\[.*?\\]', '', success_text)\n",
    "        print(cleaned_text)\n",
    "        g_counter = 9999999999\n",
    "    else:\n",
    "        print(f\"No match found for iteration {g_counter+1}\")\n",
    "\n",
    "# Note: Real-time generation of this would be ideal, but this is a simple implementation for now.\n"
   ]
  },
  {
   "cell_type": "code",
   "execution_count": 117,
   "id": "84feba9d-8faa-4ba6-8278-78cf4da4728b",
   "metadata": {
    "scrolled": true
   },
   "outputs": [],
   "source": [
    "import subprocess\n",
    "import time\n",
    "\n",
    "# Function to start recording without printing output\n",
    "def start_recording():\n",
    "    subprocess.run([\"bash\", \"start_recording.sh\"], stdout=subprocess.DEVNULL, stderr=subprocess.DEVNULL)\n",
    "\n",
    "# Function to stop recording without printing output\n",
    "def stop_recording():\n",
    "    subprocess.run([\"bash\", \"stop_recording.sh\"], stdout=subprocess.DEVNULL, stderr=subprocess.DEVNULL)"
   ]
  },
  {
   "cell_type": "code",
   "execution_count": 123,
   "id": "84d8f0ac-64d4-44d6-a308-8701ccab85bd",
   "metadata": {},
   "outputs": [
    {
     "name": "stdout",
     "output_type": "stream",
     "text": [
      "Recording started, saving to output.wav\n"
     ]
    }
   ],
   "source": [
    "recorder.start_recording()"
   ]
  },
  {
   "cell_type": "code",
   "execution_count": 124,
   "id": "68b442ff-7678-4a5c-8869-77752cbaf65d",
   "metadata": {},
   "outputs": [
    {
     "name": "stdout",
     "output_type": "stream",
     "text": [
      "Recording stopped, saved to output.wav\n"
     ]
    }
   ],
   "source": [
    "recorder.stop_recording()"
   ]
  },
  {
   "cell_type": "code",
   "execution_count": 89,
   "id": "85c6c6f7-b89e-4672-9bc8-a6bb941f7692",
   "metadata": {},
   "outputs": [],
   "source": [
    "def transcribe_audio_segment(file_path, start_minute = 0, end_minute= 9999):\n",
    "    # Load the audio file with pydub\n",
    "    audio = AudioSegment.from_file(file_path, format=\"mp3\")\n",
    "\n",
    "    # Calculate start and end times in milliseconds\n",
    "    start_time = start_minute * 60 * 1000\n",
    "    end_time = end_minute * 60 * 1000\n",
    "\n",
    "    # Extract the desired segment\n",
    "    audio_segment = audio[start_time:end_time]\n",
    "\n",
    "    # Export the segment as a temporary WAV file\n",
    "    temp_wav = \"temp_segment.wav\"\n",
    "    audio_segment.export(temp_wav, format=\"wav\")\n",
    "\n",
    "    # Transcribe the extracted segment using Whisper\n",
    "    result = model.transcribe(temp_wav)\n",
    "    print(\"Transcription:\", result[\"text\"])"
   ]
  },
  {
   "cell_type": "code",
   "execution_count": null,
   "id": "7fc73532-980d-4f2a-8c4c-be4e521827bd",
   "metadata": {},
   "outputs": [],
   "source": [
    "transcribe_audio_segment(\"FoodTox Lecture03-SD.mp3\", start_minute=0, end_minute=5)"
   ]
  },
  {
   "cell_type": "code",
   "execution_count": null,
   "id": "afb4e13f-b360-4665-8538-79debae70fef",
   "metadata": {},
   "outputs": [],
   "source": [
    "#this worked.\n",
    "# transcribe_audio_segment(\"FoodTox Lecture03-SD.mp3\", start_minute=3, end_minute=5)\n"
   ]
  },
  {
   "cell_type": "code",
   "execution_count": 118,
   "id": "f463689b-b890-4ce0-bc58-a2063f5f909c",
   "metadata": {},
   "outputs": [
    {
     "name": "stderr",
     "output_type": "stream",
     "text": [
      "/opt/homebrew/lib/python3.11/site-packages/whisper/transcribe.py:115: UserWarning: FP16 is not supported on CPU; using FP32 instead\n",
      "  warnings.warn(\"FP16 is not supported on CPU; using FP32 instead\")\n"
     ]
    },
    {
     "name": "stdout",
     "output_type": "stream",
     "text": [
      "Transcription:  dealership after photos of a truck he had traded in began circulating on social media because it was being used by ISIS to fight on the front lines in Syria and still had his company name\n"
     ]
    }
   ],
   "source": [
    "transcribe_audio_segment(\"output.wav\")"
   ]
  }
 ],
 "metadata": {
  "kernelspec": {
   "display_name": "Python 3 (ipykernel)",
   "language": "python",
   "name": "python3"
  },
  "language_info": {
   "codemirror_mode": {
    "name": "ipython",
    "version": 3
   },
   "file_extension": ".py",
   "mimetype": "text/x-python",
   "name": "python",
   "nbconvert_exporter": "python",
   "pygments_lexer": "ipython3",
   "version": "3.11.5"
  }
 },
 "nbformat": 4,
 "nbformat_minor": 5
}
