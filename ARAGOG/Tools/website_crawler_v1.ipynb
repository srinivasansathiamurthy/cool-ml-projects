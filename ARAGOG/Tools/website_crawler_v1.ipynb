{
 "cells": [
  {
   "cell_type": "markdown",
   "id": "6e85a179-724e-4890-92d0-2c47c267bf7a",
   "metadata": {},
   "source": [
    "# What is this\n",
    "\n",
    "1. Given some url, clicks and extracts html, or extracts content.\n",
    "    - depending on what type of media it is, it can download it as well.\n",
    "    - this needs to avoid honeypots..."
   ]
  },
  {
   "cell_type": "code",
   "execution_count": null,
   "id": "68c94365-fd2c-4d45-ad1a-1b5592b7d5d7",
   "metadata": {},
   "outputs": [],
   "source": []
  },
  {
   "cell_type": "code",
   "execution_count": null,
   "id": "a7e09f67-fcaa-452e-805d-17c957d3dfac",
   "metadata": {},
   "outputs": [],
   "source": []
  },
  {
   "cell_type": "code",
   "execution_count": null,
   "id": "b5c70545-b7fa-40ae-9f08-66f8e77468b6",
   "metadata": {},
   "outputs": [],
   "source": []
  },
  {
   "cell_type": "code",
   "execution_count": null,
   "id": "8c0044c0-dc20-45dd-b11e-789c8df57664",
   "metadata": {},
   "outputs": [],
   "source": []
  },
  {
   "cell_type": "code",
   "execution_count": null,
   "id": "bd135be9-fc18-483e-bc3d-2eac6974a1d0",
   "metadata": {},
   "outputs": [],
   "source": []
  },
  {
   "cell_type": "code",
   "execution_count": null,
   "id": "6ce2071f-4303-4723-aefc-d58bca4f8853",
   "metadata": {},
   "outputs": [],
   "source": []
  },
  {
   "cell_type": "code",
   "execution_count": null,
   "id": "7884d65f-281b-4a75-a7f9-8192f86f4622",
   "metadata": {},
   "outputs": [],
   "source": []
  }
 ],
 "metadata": {
  "kernelspec": {
   "display_name": "Python 3 (ipykernel)",
   "language": "python",
   "name": "python3"
  },
  "language_info": {
   "codemirror_mode": {
    "name": "ipython",
    "version": 3
   },
   "file_extension": ".py",
   "mimetype": "text/x-python",
   "name": "python",
   "nbconvert_exporter": "python",
   "pygments_lexer": "ipython3",
   "version": "3.11.5"
  }
 },
 "nbformat": 4,
 "nbformat_minor": 5
}
