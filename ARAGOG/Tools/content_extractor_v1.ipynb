{
 "cells": [
  {
   "cell_type": "markdown",
   "id": "17c5ab88-202d-4221-a6f3-e007cfeeed73",
   "metadata": {},
   "source": [
    "# What is this:\n",
    "\n",
    "1. given a website page, extracts all keys/urls associated with it. Keys are content values, urls are the thing you click on it."
   ]
  },
  {
   "cell_type": "code",
   "execution_count": null,
   "id": "f83ca4b4-dca7-4538-8780-a659267b411b",
   "metadata": {},
   "outputs": [],
   "source": []
  },
  {
   "cell_type": "code",
   "execution_count": null,
   "id": "199afa17-a8cf-40cc-be04-d9ec6e011312",
   "metadata": {},
   "outputs": [],
   "source": []
  },
  {
   "cell_type": "code",
   "execution_count": null,
   "id": "a791f0d9-2cba-4c52-9ea8-c50b7eadfbfa",
   "metadata": {},
   "outputs": [],
   "source": []
  },
  {
   "cell_type": "code",
   "execution_count": null,
   "id": "56c16d83-5326-4057-8c43-b136c69c3a9e",
   "metadata": {},
   "outputs": [],
   "source": []
  },
  {
   "cell_type": "code",
   "execution_count": null,
   "id": "e7f64382-7bdb-4063-b8ea-d56349cdc194",
   "metadata": {},
   "outputs": [],
   "source": []
  }
 ],
 "metadata": {
  "kernelspec": {
   "display_name": "Python 3 (ipykernel)",
   "language": "python",
   "name": "python3"
  },
  "language_info": {
   "codemirror_mode": {
    "name": "ipython",
    "version": 3
   },
   "file_extension": ".py",
   "mimetype": "text/x-python",
   "name": "python",
   "nbconvert_exporter": "python",
   "pygments_lexer": "ipython3",
   "version": "3.11.5"
  }
 },
 "nbformat": 4,
 "nbformat_minor": 5
}
