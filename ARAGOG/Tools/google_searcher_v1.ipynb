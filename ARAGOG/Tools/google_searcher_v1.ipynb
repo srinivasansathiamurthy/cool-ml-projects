{
 "cells": [
  {
   "cell_type": "markdown",
   "id": "9d59dc42-7ca2-42c7-92f9-ced8d045eff3",
   "metadata": {},
   "source": [
    "# What is this\n",
    "\n",
    "Allows you to interact with google search and extract top K links."
   ]
  },
  {
   "cell_type": "code",
   "execution_count": null,
   "id": "c94241da-5199-4e38-9711-a6791fda44b1",
   "metadata": {},
   "outputs": [],
   "source": []
  },
  {
   "cell_type": "code",
   "execution_count": null,
   "id": "2530a56a-7139-4d49-aa31-5939a2402b60",
   "metadata": {},
   "outputs": [],
   "source": []
  },
  {
   "cell_type": "code",
   "execution_count": null,
   "id": "519daf1f-8b5d-4729-a210-23dc80ca37a2",
   "metadata": {},
   "outputs": [],
   "source": []
  },
  {
   "cell_type": "code",
   "execution_count": null,
   "id": "a30a3315-d0b8-4763-8da2-82801ebe9363",
   "metadata": {},
   "outputs": [],
   "source": []
  },
  {
   "cell_type": "code",
   "execution_count": null,
   "id": "ee440b34-ba47-4589-a14a-5952c69cb763",
   "metadata": {},
   "outputs": [],
   "source": []
  },
  {
   "cell_type": "code",
   "execution_count": null,
   "id": "3eb4bc3d-e9c4-4076-b409-ba6337ff553a",
   "metadata": {},
   "outputs": [],
   "source": []
  }
 ],
 "metadata": {
  "kernelspec": {
   "display_name": "Python 3 (ipykernel)",
   "language": "python",
   "name": "python3"
  },
  "language_info": {
   "codemirror_mode": {
    "name": "ipython",
    "version": 3
   },
   "file_extension": ".py",
   "mimetype": "text/x-python",
   "name": "python",
   "nbconvert_exporter": "python",
   "pygments_lexer": "ipython3",
   "version": "3.11.5"
  }
 },
 "nbformat": 4,
 "nbformat_minor": 5
}
